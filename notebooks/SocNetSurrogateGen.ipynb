{
 "metadata": {
  "orig_nbformat": 2,
  "kernelspec": {
   "name": "python3",
   "display_name": "Python 3",
   "language": "python"
  },
  "interpreter": {
   "hash": "2f7bc53434a1461e5dd68bf814ce22a32b1df537b8c98e57f29aa6ba158cef84"
  }
 },
 "nbformat": 4,
 "nbformat_minor": 2,
 "cells": [
  {
   "cell_type": "code",
   "execution_count": 2,
   "metadata": {},
   "outputs": [],
   "source": [
    "import torch_geometric as geo"
   ]
  },
  {
   "cell_type": "code",
   "execution_count": 3,
   "metadata": {},
   "outputs": [],
   "source": [
    "import torch"
   ]
  },
  {
   "cell_type": "code",
   "execution_count": 4,
   "metadata": {},
   "outputs": [],
   "source": [
    "IMDB_B = geo.datasets.TUDataset(root='data', name='IMDB-BINARY')"
   ]
  },
  {
   "cell_type": "code",
   "execution_count": 5,
   "metadata": {},
   "outputs": [],
   "source": [
    "def idx2adj(data):\n",
    "  device = data.edge_index.device\n",
    "  edge_index = torch.zeros(size=(data.num_nodes, data.num_nodes), device=device)\n",
    "  for i in range(data.edge_index.shape[1]):\n",
    "      edge_index[data.edge_index[0][i]][data.edge_index[1][i]] = 1\n",
    "  return edge_index\n",
    "def adj2idx(edge_index):\n",
    "  assert edge_index.shape[0] == edge_index.shape[1]\n",
    "  tmp = []\n",
    "  for i in range(edge_index.shape[0]):\n",
    "      for j in range(edge_index.shape[0]):\n",
    "          if edge_index[i][j] == 1:\n",
    "              tmp.append([i, j])\n",
    "  return torch.Tensor(tmp).permute(1,0).to(edge_index.device)"
   ]
  },
  {
   "cell_type": "code",
   "execution_count": 6,
   "metadata": {},
   "outputs": [
    {
     "output_type": "stream",
     "name": "stdout",
     "text": [
      "Downloading https://www.chrsmrrs.com/graphkerneldatasets/COLLAB.zip\n",
      "Extracting data/COLLAB/COLLAB.zip\n",
      "Processing...\n",
      "Done!\n"
     ]
    }
   ],
   "source": [
    "COLLAB = geo.datasets.TUDataset(root='data', name='COLLAB')"
   ]
  },
  {
   "cell_type": "code",
   "execution_count": 18,
   "metadata": {},
   "outputs": [],
   "source": [
    "numNodes = []\n",
    "for i in range(IMDB_B.len()):\n",
    "  numNodes.append(len(list(dict(geo.utils.convert.to_networkx(IMDB_B[i]).degree).values())))"
   ]
  },
  {
   "cell_type": "code",
   "execution_count": 20,
   "metadata": {},
   "outputs": [],
   "source": [
    "sample = geo.data.Data()\n",
    "num_nodes = int((sum(numNodes) / len(numNodes)) * 2 * (torch.rand(1)))\n",
    "adv_adj = torch.ones(size=(num_nodes, num_nodes)).int()\n",
    "sample.edge_index = adj2idx(adv_adj).long()\n",
    "sample.num_nodes = num_nodes\n",
    "\n",
    "if True:\n",
    "  sample.edge_attr = torch.rand(sample.edge_index.shape[1], )\n",
    "  sample.edge_attr.requires_grad_()\n",
    "  bin_attr = (sample.edge_attr + 0.5).int().bool()\n",
    "  bin_edge0 = sample.edge_index[0].masked_select(bin_attr)\n",
    "  bin_edge1 = sample.edge_index[1].masked_select(bin_attr)\n",
    "  sample.x = bin_edge0.bincount().float()\n",
    "  cl_optim = torch.optim.Adam([sample.edge_attr])\n"
   ]
  }
 ]
}