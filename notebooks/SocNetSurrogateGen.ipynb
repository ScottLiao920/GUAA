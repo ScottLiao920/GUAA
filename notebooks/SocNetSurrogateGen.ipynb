{
 "metadata": {
  "orig_nbformat": 2,
  "kernelspec": {
   "name": "python3",
   "display_name": "Python 3.8.8 64-bit ('base': conda)"
  },
  "interpreter": {
   "hash": "98b0a9b7b4eaaa670588a142fd0a9b87eaafe866f1db4228be72b4211d12040f"
  },
  "language_info": {
   "name": "python",
   "version": "3.8.8",
   "mimetype": "text/x-python",
   "codemirror_mode": {
    "name": "ipython",
    "version": 3
   },
   "pygments_lexer": "ipython3",
   "nbconvert_exporter": "python",
   "file_extension": ".py"
  }
 },
 "nbformat": 4,
 "nbformat_minor": 2,
 "cells": [
  {
   "cell_type": "code",
   "execution_count": 1,
   "source": [
    "import torch_geometric as geo"
   ],
   "outputs": [],
   "metadata": {}
  },
  {
   "cell_type": "code",
   "execution_count": 2,
   "source": [
    "import torch"
   ],
   "outputs": [],
   "metadata": {}
  },
  {
   "cell_type": "code",
   "execution_count": 4,
   "source": [
    "IMDB_B = geo.datasets.TUDataset(root='/GUAA/data', name='IMDB-BINARY')"
   ],
   "outputs": [
    {
     "output_type": "stream",
     "name": "stdout",
     "text": [
      "Downloading https://www.chrsmrrs.com/graphkerneldatasets/IMDB-BINARY.zip\n",
      "Extracting /GUAA/data/IMDB-BINARY/IMDB-BINARY.zip\n",
      "Processing...\n",
      "Done!\n"
     ]
    }
   ],
   "metadata": {}
  },
  {
   "cell_type": "code",
   "execution_count": 5,
   "source": [
    "def idx2adj(data):\n",
    "  device = data.edge_index.device\n",
    "  edge_index = torch.zeros(size=(data.num_nodes, data.num_nodes), device=device)\n",
    "  for i in range(data.edge_index.shape[1]):\n",
    "      edge_index[data.edge_index[0][i]][data.edge_index[1][i]] = 1\n",
    "  return edge_index\n",
    "def adj2idx(edge_index):\n",
    "  assert edge_index.shape[0] == edge_index.shape[1]\n",
    "  tmp = []\n",
    "  for i in range(edge_index.shape[0]):\n",
    "      for j in range(edge_index.shape[0]):\n",
    "          if edge_index[i][j] == 1:\n",
    "              tmp.append([i, j])\n",
    "  return torch.Tensor(tmp).permute(1,0).to(edge_index.device)"
   ],
   "outputs": [],
   "metadata": {}
  },
  {
   "cell_type": "code",
   "execution_count": 6,
   "source": [
    "COLLAB = geo.datasets.TUDataset(root='/GUAA/data', name='COLLAB')"
   ],
   "outputs": [
    {
     "output_type": "stream",
     "name": "stdout",
     "text": [
      "Downloading https://www.chrsmrrs.com/graphkerneldatasets/COLLAB.zip\n",
      "Extracting /GUAA/data/COLLAB/COLLAB.zip\n",
      "Processing...\n",
      "Done!\n"
     ]
    }
   ],
   "metadata": {}
  },
  {
   "cell_type": "code",
   "execution_count": 23,
   "source": [
    "PROTEINS = geo.datasets.TUDataset(root='/GUAA/data', name='PROTEINS')"
   ],
   "outputs": [
    {
     "output_type": "stream",
     "name": "stdout",
     "text": [
      "Downloading https://www.chrsmrrs.com/graphkerneldatasets/PROTEINS.zip\n",
      "Extracting /GUAA/data/PROTEINS/PROTEINS.zip\n",
      "Processing...\n",
      "Done!\n"
     ]
    }
   ],
   "metadata": {}
  },
  {
   "cell_type": "code",
   "execution_count": 24,
   "source": [
    "DD = geo.datasets.TUDataset(root='/GUAA/data', name='DD')"
   ],
   "outputs": [
    {
     "output_type": "stream",
     "name": "stdout",
     "text": [
      "Downloading https://www.chrsmrrs.com/graphkerneldatasets/DD.zip\n",
      "Extracting /GUAA/data/DD/DD.zip\n",
      "Processing...\n",
      "Done!\n"
     ]
    }
   ],
   "metadata": {}
  },
  {
   "cell_type": "code",
   "execution_count": 25,
   "source": [
    "datasets = {\n",
    "  'IMDBB': IMDB_B,\n",
    "  'COLLAB': COLLAB,\n",
    "  'PROTEINS': PROTEINS,\n",
    "  'DD': DD\n",
    "}\n",
    "for key in list(datasets.keys()):\n",
    "  numNodes = []\n",
    "  for i in range(datasets[key].len()):\n",
    "    numNodes.append(geo.utils.convert.to_networkx(datasets[key][i]).number_of_nodes())\n",
    "  print(key, ':', sum(numNodes) / len(numNodes))"
   ],
   "outputs": [
    {
     "output_type": "stream",
     "name": "stdout",
     "text": [
      "IMDBB : 19.773\n",
      "COLLAB : 74.4948\n",
      "PROTEINS : 39.05750224618149\n",
      "DD : 284.3166383701188\n"
     ]
    }
   ],
   "metadata": {}
  },
  {
   "cell_type": "code",
   "execution_count": 37,
   "source": [
    "for key in list(datasets.keys()):\n"
   ],
   "outputs": [
    {
     "output_type": "execute_result",
     "data": {
      "text/plain": [
       "Data(edge_index=[2, 1584], x=[351, 89], y=[1])"
      ]
     },
     "metadata": {},
     "execution_count": 37
    }
   ],
   "metadata": {}
  }
 ]
}