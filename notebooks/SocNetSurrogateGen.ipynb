{
 "metadata": {
  "orig_nbformat": 2,
  "kernelspec": {
   "name": "python3",
   "display_name": "Python 3.8.8 64-bit ('base': conda)"
  },
  "interpreter": {
   "hash": "98b0a9b7b4eaaa670588a142fd0a9b87eaafe866f1db4228be72b4211d12040f"
  },
  "language_info": {
   "name": "python",
   "version": "3.8.8",
   "mimetype": "text/x-python",
   "codemirror_mode": {
    "name": "ipython",
    "version": 3
   },
   "pygments_lexer": "ipython3",
   "nbconvert_exporter": "python",
   "file_extension": ".py"
  }
 },
 "nbformat": 4,
 "nbformat_minor": 2,
 "cells": [
  {
   "cell_type": "code",
   "execution_count": 1,
   "source": [
    "import torch_geometric as geo"
   ],
   "outputs": [],
   "metadata": {}
  },
  {
   "cell_type": "code",
   "execution_count": 2,
   "source": [
    "import torch"
   ],
   "outputs": [],
   "metadata": {}
  },
  {
   "cell_type": "code",
   "execution_count": 3,
   "source": [
    "IMDB_B = geo.datasets.TUDataset(root='/GUAA/data', name='IMDB-BINARY')"
   ],
   "outputs": [],
   "metadata": {}
  },
  {
   "cell_type": "code",
   "execution_count": 4,
   "source": [
    "def idx2adj(data):\n",
    "  device = data.edge_index.device\n",
    "  edge_index = torch.zeros(size=(data.num_nodes, data.num_nodes), device=device)\n",
    "  for i in range(data.edge_index.shape[1]):\n",
    "      edge_index[data.edge_index[0][i]][data.edge_index[1][i]] = 1\n",
    "  return edge_index\n",
    "def adj2idx(edge_index):\n",
    "  assert edge_index.shape[0] == edge_index.shape[1]\n",
    "  tmp = []\n",
    "  for i in range(edge_index.shape[0]):\n",
    "      for j in range(edge_index.shape[0]):\n",
    "          if edge_index[i][j] == 1:\n",
    "              tmp.append([i, j])\n",
    "  return torch.Tensor(tmp).permute(1,0).to(edge_index.device)"
   ],
   "outputs": [],
   "metadata": {}
  },
  {
   "cell_type": "code",
   "execution_count": 7,
   "source": [
    "COLLAB = geo.datasets.TUDataset(root='/GUAA/data', name='COLLAB')"
   ],
   "outputs": [],
   "metadata": {}
  },
  {
   "cell_type": "code",
   "execution_count": 31,
   "source": [
    "PROTEINS = geo.datasets.TUDataset(root='/GUAA/data', name='PROTEINS')"
   ],
   "outputs": [],
   "metadata": {}
  },
  {
   "cell_type": "code",
   "execution_count": 52,
   "source": [
    "DD = geo.datasets.TUDataset(root='/GUAA/data', name='DD')"
   ],
   "outputs": [],
   "metadata": {}
  },
  {
   "cell_type": "code",
   "execution_count": 25,
   "source": [
    "datasets = {\n",
    "  'IMDBB': IMDB_B,\n",
    "  'COLLAB': COLLAB,\n",
    "  'PROTEINS': PROTEINS,\n",
    "  'DD': DD\n",
    "}\n",
    "for key in list(datasets.keys()):\n",
    "  numNodes = []\n",
    "  for i in range(datasets[key].len()):\n",
    "    numNodes.append(geo.utils.convert.to_networkx(datasets[key][i]).number_of_nodes())\n",
    "  print(key, ':', sum(numNodes) / len(numNodes), datasets[key].num_classes)"
   ],
   "outputs": [
    {
     "output_type": "stream",
     "name": "stdout",
     "text": [
      "IMDBB : 19.773\n",
      "COLLAB : 74.4948\n",
      "PROTEINS : 39.05750224618149\n",
      "DD : 284.3166383701188\n"
     ]
    }
   ],
   "metadata": {}
  },
  {
   "cell_type": "code",
   "execution_count": 9,
   "source": [
    "nxg = geo.utils.convert.to_networkx(IMDB_B[0])"
   ],
   "outputs": [],
   "metadata": {}
  },
  {
   "cell_type": "code",
   "execution_count": 23,
   "source": [
    "neighborIndex = list(nxg.neighbors(0))"
   ],
   "outputs": [],
   "metadata": {}
  },
  {
   "cell_type": "code",
   "execution_count": 26,
   "source": [
    "neighborIndex.insert(0, len(neighborIndex))"
   ],
   "outputs": [],
   "metadata": {}
  },
  {
   "cell_type": "code",
   "execution_count": 33,
   "source": [
    "neighborIndex = [str(idx) for idx in neighborIndex]"
   ],
   "outputs": [],
   "metadata": {}
  },
  {
   "cell_type": "code",
   "execution_count": 35,
   "source": [
    "' '.join(neighborIndex)+'\\n'"
   ],
   "outputs": [
    {
     "output_type": "execute_result",
     "data": {
      "text/plain": [
       "'5 2 4 5 9 10\\n'"
      ]
     },
     "metadata": {},
     "execution_count": 35
    }
   ],
   "metadata": {}
  },
  {
   "cell_type": "code",
   "execution_count": 69,
   "source": [
    "with open('/GUAA/data/GraphTransformer/dataset/COLLAB/COLLAB.txt', 'r') as fin:\n",
    "    tmp = fin.readlines()"
   ],
   "outputs": [],
   "metadata": {}
  },
  {
   "cell_type": "code",
   "execution_count": 70,
   "source": [
    "labelDict = {}\n",
    "for i in range(len(tmp)):\n",
    "    row = tmp[i].split()\n",
    "    if len(row) <= 2:\n",
    "        continue\n",
    "    if row[0] not in list(labelDict.keys()):\n",
    "        labelDict[row[0]] = 1\n",
    "    else:\n",
    "        labelDict[row[0]] += 1"
   ],
   "outputs": [],
   "metadata": {}
  },
  {
   "cell_type": "code",
   "execution_count": 71,
   "source": [
    "len(list(labelDict.keys()))"
   ],
   "outputs": [
    {
     "output_type": "execute_result",
     "data": {
      "text/plain": [
       "1"
      ]
     },
     "metadata": {},
     "execution_count": 71
    }
   ],
   "metadata": {}
  },
  {
   "cell_type": "code",
   "execution_count": 72,
   "source": [
    "labelDict"
   ],
   "outputs": [
    {
     "output_type": "execute_result",
     "data": {
      "text/plain": [
       "{'0': 80094}"
      ]
     },
     "metadata": {},
     "execution_count": 72
    }
   ],
   "metadata": {}
  },
  {
   "cell_type": "code",
   "execution_count": 7,
   "source": [
    "import modules\n",
    "from modules import utils"
   ],
   "outputs": [],
   "metadata": {}
  },
  {
   "cell_type": "code",
   "execution_count": 59,
   "source": [
    "curMax = 0\n",
    "for i in range(len(DD)):\n",
    "    curMax = max(curMax, DD[i].x.argmax(-1).max())\n",
    "print(curMax)"
   ],
   "outputs": [
    {
     "output_type": "stream",
     "name": "stdout",
     "text": [
      "tensor(88)\n"
     ]
    }
   ],
   "metadata": {}
  },
  {
   "cell_type": "code",
   "execution_count": 79,
   "source": [
    "DD[0].x[0].argmax()"
   ],
   "outputs": [
    {
     "output_type": "execute_result",
     "data": {
      "text/plain": [
       "tensor(3)"
      ]
     },
     "metadata": {},
     "execution_count": 79
    }
   ],
   "metadata": {}
  },
  {
   "cell_type": "code",
   "execution_count": null,
   "source": [],
   "outputs": [],
   "metadata": {}
  }
 ]
}